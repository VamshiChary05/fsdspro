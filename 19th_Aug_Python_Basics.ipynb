{
 "cells": [
  {
   "cell_type": "code",
   "execution_count": 1,
   "id": "634bd264-17f6-4d11-870c-5b95629ab2e1",
   "metadata": {},
   "outputs": [
    {
     "data": {
      "text/plain": [
       "'1. Declare two variables, `x` and `y`, and assign them integer values.\\nSwap the values of these variables without using any temporary\\nvariable.'"
      ]
     },
     "execution_count": 1,
     "metadata": {},
     "output_type": "execute_result"
    }
   ],
   "source": [
    "#Assignment\n",
    "#Python Basic Variable\n",
    "'''1. Declare two variables, `x` and `y`, and assign them integer values.\n",
    "Swap the values of these variables without using any temporary\n",
    "variable.'''"
   ]
  },
  {
   "cell_type": "code",
   "execution_count": 2,
   "id": "5805acea-4f26-4533-9a5e-c743a10e7ec0",
   "metadata": {},
   "outputs": [],
   "source": [
    "x = 30\n",
    "y = 21\n",
    "\n",
    "x, y = y ,x  #single line variable assignment"
   ]
  },
  {
   "cell_type": "code",
   "execution_count": 3,
   "id": "66ccd6d0-2dec-4152-ab2d-db5b966c7f10",
   "metadata": {},
   "outputs": [
    {
     "name": "stdout",
     "output_type": "stream",
     "text": [
      "21\n",
      "30\n"
     ]
    }
   ],
   "source": [
    "print(x)\n",
    "print(y)"
   ]
  },
  {
   "cell_type": "code",
   "execution_count": 4,
   "id": "1c8ed00c-83d9-47ef-ac48-25a39fe73bb5",
   "metadata": {},
   "outputs": [
    {
     "data": {
      "text/plain": [
       "'2. Create a program that calculates the area of a rectangle. Take the\\nlength and width as inputs from the user and store them in variables.\\nCalculate and display the area.'"
      ]
     },
     "execution_count": 4,
     "metadata": {},
     "output_type": "execute_result"
    }
   ],
   "source": [
    "'''2. Create a program that calculates the area of a rectangle. Take the\n",
    "length and width as inputs from the user and store them in variables.\n",
    "Calculate and display the area.'''"
   ]
  },
  {
   "cell_type": "code",
   "execution_count": 7,
   "id": "27986259-45cb-4806-ba7a-3f30b4be21c3",
   "metadata": {},
   "outputs": [
    {
     "name": "stdin",
     "output_type": "stream",
     "text": [
      "Enter the length: 12\n",
      "Enter the Width: 10\n"
     ]
    },
    {
     "name": "stdout",
     "output_type": "stream",
     "text": [
      "120\n"
     ]
    }
   ],
   "source": [
    "length = int(input('Enter the length:'))\n",
    "width = int(input('Enter the Width:'))\n",
    "area_of_rectange = length*width  # formula to calculate area of rectange l*w\n",
    "print(area_of_rectange)     "
   ]
  },
  {
   "cell_type": "code",
   "execution_count": 8,
   "id": "9b78c9ec-c054-4fd3-aee0-ea78f02e9d06",
   "metadata": {},
   "outputs": [
    {
     "data": {
      "text/plain": [
       "'3. Write a Python program that converts temperature from Celsius to\\nFahrenheit. Take the temperature in Celsius as input, store it in a\\nvariable, convert it to Fahrenheit, and display the result.'"
      ]
     },
     "execution_count": 8,
     "metadata": {},
     "output_type": "execute_result"
    }
   ],
   "source": [
    "'''3. Write a Python program that converts temperature from Celsius to\n",
    "Fahrenheit. Take the temperature in Celsius as input, store it in a\n",
    "variable, convert it to Fahrenheit, and display the result.'''"
   ]
  },
  {
   "cell_type": "code",
   "execution_count": 11,
   "id": "4a339484-a568-4eb7-aac8-5de2a27fe047",
   "metadata": {},
   "outputs": [
    {
     "name": "stdin",
     "output_type": "stream",
     "text": [
      "Enter the temperature: 10\n"
     ]
    },
    {
     "name": "stdout",
     "output_type": "stream",
     "text": [
      "Temperature in Fahrenheit is: 50.0\n"
     ]
    }
   ],
   "source": [
    "celsius_temp = int(input('Enter the temperature:'))\n",
    "fahrenheit = (1.8*celsius_temp) + 32 #formula to calculate fahrenheit \n",
    "print('Temperature in Fahrenheit is:',fahrenheit )"
   ]
  },
  {
   "cell_type": "code",
   "execution_count": null,
   "id": "b326977b-73df-4429-bf92-00c9a6305917",
   "metadata": {},
   "outputs": [],
   "source": [
    "#String Based Questions"
   ]
  },
  {
   "cell_type": "code",
   "execution_count": 12,
   "id": "6f837d68-3294-4d3e-aae5-5e9b4e512dde",
   "metadata": {},
   "outputs": [
    {
     "data": {
      "text/plain": [
       "'1. Write a Python program that takes a string as input and prints the\\nlength of the string.'"
      ]
     },
     "execution_count": 12,
     "metadata": {},
     "output_type": "execute_result"
    }
   ],
   "source": [
    "'''1. Write a Python program that takes a string as input and prints the\n",
    "length of the string.'''"
   ]
  },
  {
   "cell_type": "code",
   "execution_count": 13,
   "id": "c5346e1c-89bf-4b0d-8d9f-c5b841887f6e",
   "metadata": {},
   "outputs": [
    {
     "name": "stdin",
     "output_type": "stream",
     "text": [
      "Enter: vamshi\n"
     ]
    },
    {
     "name": "stdout",
     "output_type": "stream",
     "text": [
      "6\n"
     ]
    }
   ],
   "source": [
    "x = input('Enter:')\n",
    "print(len(x))  #len function "
   ]
  },
  {
   "cell_type": "code",
   "execution_count": 14,
   "id": "af79c236-d0ac-4d13-afc3-64abb2db25ca",
   "metadata": {},
   "outputs": [
    {
     "data": {
      "text/plain": [
       "'2. Create a program that takes a sentence from the user and counts the\\nnumber of vowels (a, e, i, o, u) in the string.'"
      ]
     },
     "execution_count": 14,
     "metadata": {},
     "output_type": "execute_result"
    }
   ],
   "source": [
    "'''2. Create a program that takes a sentence from the user and counts the\n",
    "number of vowels (a, e, i, o, u) in the string.'''"
   ]
  },
  {
   "cell_type": "code",
   "execution_count": 26,
   "id": "e6e4ea93-3aab-467f-9a5b-28cf07280d10",
   "metadata": {},
   "outputs": [
    {
     "name": "stdin",
     "output_type": "stream",
     "text": [
      "Enter your sentence: vamshi is good boy\n"
     ]
    },
    {
     "name": "stdout",
     "output_type": "stream",
     "text": [
      "6\n"
     ]
    }
   ],
   "source": [
    "#for loop to check each word \n",
    "x = input('Enter your sentence:')\n",
    "y = []\n",
    "for i in x:\n",
    "    if i in ('a','e','i','o','u'):\n",
    "        y.append(i)\n",
    "print(len(y))"
   ]
  },
  {
   "cell_type": "code",
   "execution_count": 27,
   "id": "928f3f99-b38c-412c-8cb8-3d709717e4b1",
   "metadata": {},
   "outputs": [
    {
     "data": {
      "text/plain": [
       "'3. Given a string, reverse the order of characters using string slicing and\\nprint the reversed string.'"
      ]
     },
     "execution_count": 27,
     "metadata": {},
     "output_type": "execute_result"
    }
   ],
   "source": [
    "'''3. Given a string, reverse the order of characters using string slicing and\n",
    "print the reversed string.'''"
   ]
  },
  {
   "cell_type": "code",
   "execution_count": 28,
   "id": "56746a35-c300-46c5-9ed4-a8fa2108f2d3",
   "metadata": {},
   "outputs": [
    {
     "name": "stdout",
     "output_type": "stream",
     "text": [
      "ihsmav\n"
     ]
    }
   ],
   "source": [
    "x = 'vamshi'\n",
    "print(x[::-1])"
   ]
  },
  {
   "cell_type": "code",
   "execution_count": 29,
   "id": "39ec6843-d2b5-476c-aaf9-2c09c73162f6",
   "metadata": {},
   "outputs": [
    {
     "data": {
      "text/plain": [
       "'4. Write a program that takes a string as input and checks if it is a\\npalindrome (reads the same forwards and backwards).'"
      ]
     },
     "execution_count": 29,
     "metadata": {},
     "output_type": "execute_result"
    }
   ],
   "source": [
    "'''4. Write a program that takes a string as input and checks if it is a\n",
    "palindrome (reads the same forwards and backwards).'''\n"
   ]
  },
  {
   "cell_type": "code",
   "execution_count": 34,
   "id": "97c61529-bba9-4a87-94a7-fc19d3be7504",
   "metadata": {},
   "outputs": [
    {
     "name": "stdin",
     "output_type": "stream",
     "text": [
      "Please Enter: 121\n"
     ]
    },
    {
     "name": "stdout",
     "output_type": "stream",
     "text": [
      "121 is a palindrome\n"
     ]
    }
   ],
   "source": [
    "x = input('Please Enter:')\n",
    "if x == x[::-1]:\n",
    "    print(x,'is a palindrome')\n",
    "else:\n",
    "    print(x,'is not a palindrome')\n",
    "    "
   ]
  },
  {
   "cell_type": "code",
   "execution_count": 35,
   "id": "69d587db-5275-4e68-8021-3bc40585da93",
   "metadata": {},
   "outputs": [
    {
     "data": {
      "text/plain": [
       "'5. Create a program that takes a string as input and removes all the\\nspaces from it. Print the modified string without spaces.'"
      ]
     },
     "execution_count": 35,
     "metadata": {},
     "output_type": "execute_result"
    }
   ],
   "source": [
    "'''5. Create a program that takes a string as input and removes all the\n",
    "spaces from it. Print the modified string without spaces.'''"
   ]
  },
  {
   "cell_type": "code",
   "execution_count": 41,
   "id": "14221725-3eeb-431a-a386-d6e88015325a",
   "metadata": {},
   "outputs": [
    {
     "name": "stdin",
     "output_type": "stream",
     "text": [
      "enter: vamshi is a good boy\n"
     ]
    },
    {
     "name": "stdout",
     "output_type": "stream",
     "text": [
      "vamshiisagoodboy\n"
     ]
    }
   ],
   "source": [
    "x = input('enter:')\n",
    "remove = x.replace(\" \", \"\")\n",
    "print(remove)"
   ]
  },
  {
   "cell_type": "code",
   "execution_count": null,
   "id": "9d0b2ea9-c246-40e0-b0a4-8e80f09012d0",
   "metadata": {},
   "outputs": [],
   "source": []
  }
 ],
 "metadata": {
  "kernelspec": {
   "display_name": "Python 3 (ipykernel)",
   "language": "python",
   "name": "python3"
  },
  "language_info": {
   "codemirror_mode": {
    "name": "ipython",
    "version": 3
   },
   "file_extension": ".py",
   "mimetype": "text/x-python",
   "name": "python",
   "nbconvert_exporter": "python",
   "pygments_lexer": "ipython3",
   "version": "3.10.8"
  }
 },
 "nbformat": 4,
 "nbformat_minor": 5
}
